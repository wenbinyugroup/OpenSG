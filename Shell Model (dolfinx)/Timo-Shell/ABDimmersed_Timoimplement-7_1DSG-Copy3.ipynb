{
 "cells": [
  {
   "cell_type": "code",
   "execution_count": 110,
   "id": "f7fb505e",
   "metadata": {},
   "outputs": [
    {
     "name": "stdout",
     "output_type": "stream",
     "text": [
      "Info    : Reading 'cylshell_6144elem.msh'...\n",
      "Info    : 6272 nodes\n",
      "Info    : 6144 elements\n",
      "Info    : Done reading 'cylshell_6144elem.msh'\n"
     ]
    },
    {
     "data": {
      "application/vnd.jupyter.widget-view+json": {
       "model_id": "ef909dc5b04c49bfa5e2ab1242ab3420",
       "version_major": 2,
       "version_minor": 0
      },
      "text/plain": [
       "Widget(value=\"<iframe src='http://localhost:62746/index.html?ui=P_0x7f0010287250_3&reconnect=auto' style='widt…"
      ]
     },
     "metadata": {},
     "output_type": "display_data"
    }
   ],
   "source": [
    "### Update for dolfinx latest v0.8\n",
    "from dolfinx.io import gmshio\n",
    "from dolfinx.fem.petsc import LinearProblem, assemble_matrix\n",
    "from dolfinx.mesh import locate_entities_boundary, exterior_facet_indices, create_submesh\n",
    "from mpi4py import MPI\n",
    "import numpy as np\n",
    "import meshio\n",
    "import dolfinx\n",
    "import basix\n",
    "from dolfinx.fem import form, petsc, Function, functionspace, locate_dofs_topological, apply_lifting, set_bc\n",
    "from ufl import Jacobian, as_vector, dot, cross,sqrt, conditional, replace, as_matrix,FacetNormal\n",
    "from ufl import lt,SpatialCoordinate, as_tensor, Measure, Mesh\n",
    "from ufl import TrialFunction, TestFunction, inner, lhs, rhs, dx, dot, eq, grad\n",
    "from dolfinx import fem\n",
    "import petsc4py.PETSc\n",
    "from contextlib import ExitStack\n",
    "from dolfinx.io import gmshio\n",
    "from mpi4py import MPI\n",
    "from pathlib import Path\n",
    "from typing import Dict\n",
    "import scipy\n",
    "from scipy.sparse import csr_matrix\n",
    "import ufl\n",
    "mesh, subdomains, boundaries = gmshio.read_from_msh(\"cylshell_6144elem.msh\", MPI.COMM_WORLD,0, gdim=3)\n",
    "\n",
    "pp=mesh.geometry.x\n",
    "x_min,x_max=min(pp[:,0]), max(pp[:,0])\n",
    "\n",
    "def left(x):\n",
    "    return np.isclose(x[0], x_min)\n",
    "def right(x):\n",
    "    return np.isclose(x[0], x_max)\n",
    "\n",
    "tdim=mesh.topology.dim\n",
    "fdim = tdim - 1\n",
    "facets_left = dolfinx.mesh.locate_entities_boundary(mesh, dim=fdim,\n",
    "                                       marker=left)\n",
    "facets_right = dolfinx.mesh.locate_entities_boundary(mesh, dim=fdim,\n",
    "                                       marker=right)\n",
    "\n",
    "mesh_r, entity_mapr, vertex_mapr, geom_mapr = create_submesh(mesh, fdim, facets_right)\n",
    "mesh_l, entity_mapl, vertex_mapl, geom_mapl = create_submesh(mesh, fdim, facets_left)\n",
    "\n",
    "import pyvista\n",
    "pyvista.start_xvfb()\n",
    "u_topology, u_cell_types, u_geometry=dolfinx.plot.vtk_mesh(mesh_l,fdim)\n",
    "u_grid = pyvista.UnstructuredGrid(u_topology, u_cell_types, u_geometry)\n",
    "u_plotter = pyvista.Plotter()\n",
    "u_plotter.add_mesh(u_grid, show_edges=True)\n",
    "u_plotter.view_yz()\n",
    "u_plotter.show()\n",
    "#########################################################################################\n"
   ]
  },
  {
   "cell_type": "code",
   "execution_count": null,
   "id": "67a5cae9",
   "metadata": {},
   "outputs": [],
   "source": []
  },
  {
   "cell_type": "code",
   "execution_count": 111,
   "id": "af0de6af",
   "metadata": {},
   "outputs": [],
   "source": [
    "ABD=as_tensor([[ 7.56043956e+08,  2.26813187e+08,  0.00000000e+00, 9.31322575e-10,  9.31322575e-10,  0.00000000e+00],\n",
    "              [ 2.26813187e+08,  7.56043956e+08,  0.00000000e+00, 9.31322575e-10,  9.31322575e-10,  0.00000000e+00],\n",
    "             [ 0.00000000e+00,  0.00000000e+00,  2.64600000e+08, 0.00000000e+00,  0.00000000e+00,  0.00000000e+00],\n",
    "            [-1.39698386e-09, -1.39698386e-09,  0.00000000e+00, 2.52014652e+06,  7.56043956e+05,  0.00000000e+00],\n",
    "            [-1.39698386e-09, -1.39698386e-09,  0.00000000e+00, 7.56043956e+05,  2.52014652e+06,  0.00000000e+00],\n",
    "            [ 0.00000000e+00,  0.00000000e+00,  0.00000000e+00, 0.00000000e+00,  0.00000000e+00,  8.82000000e+05]])\n",
    "ABD=ABD/1e6"
   ]
  },
  {
   "cell_type": "code",
   "execution_count": 112,
   "id": "c1596df5",
   "metadata": {},
   "outputs": [],
   "source": [
    "def local_frame_1D(mesh): \n",
    "    t = Jacobian(mesh)\n",
    "    t1 = as_vector([t[0, 0], t[1, 0], t[2, 0]])\n",
    "    e1=  t1/ sqrt(dot(t1, t1))\n",
    "    e2=  as_vector([1,0,0])\n",
    "    e3= cross(e1,e2)\n",
    "    return e1, e2, e3\n",
    "\n",
    "def deri(e):\n",
    "    #a3,1\n",
    "    e1,e2,e3=e[0],e[1],e[2]\n",
    "    a1_1=dot(e1,grad(e1))\n",
    "    a1_2=dot(e2,grad(e1))\n",
    "    a2_1=dot(e1,grad(e2))\n",
    "    a2_2=dot(e2,grad(e2))\n",
    "    a3_1=dot(e1,grad(e3))\n",
    "    a3_2=dot(e2,grad(e3))\n",
    "    \n",
    "    # Initial Curvatures\n",
    "    k11= dot(a3_1,e1)\n",
    "    k12= dot(a3_1,e2)\n",
    "    k21= dot(a3_2,e1)\n",
    "    k22= dot(a3_2,e2)\n",
    "    k13= dot(a1_1,e2)\n",
    "    k23= dot(a1_2,e2)\n",
    "    return k11,k12,k21,k22,k13,k23\n",
    "\n",
    "def local_grad(ee,q):\n",
    "    return dot(ee,grad(q))\n",
    "\n",
    "def ddot(w,d1):\n",
    "    return (d1[0]*w[0]+d1[1]*w[1]+d1[2]*w[2])\n",
    "\n",
    "def Eps(e,x,pp):    \n",
    "    if pp=='G_eps-p':\n",
    "        x11,x21,x31= local_grad(e[0],x[0]), local_grad(e[0],x[1]), local_grad(e[0],x[2])\n",
    "        x12,x22,x32= local_grad(e[1],x[0]), local_grad(e[1],x[1]), local_grad(e[1],x[2])\n",
    "        y1,y2,y3= local_grad(e[2],x[0]), local_grad(e[2],x[1]), local_grad(e[2],x[2])\n",
    "        O=as_vector((0,0,0,0))\n",
    "        R=as_vector((-y1,-y3*x[1]+y2*x[2],-x[2]*y1,x[1]*y1))\n",
    "\n",
    "        return as_tensor([O,O,O,x11*x11*R,x12*x12*R,2*x11*x12*R])\n",
    "    \n",
    "    elif pp=='G_eps':\n",
    "\n",
    "        k11,k12,k21,k22,k13,k23= deri(e)\n",
    "        x11,x21,x31= local_grad(e[0],x[0]), local_grad(e[0],x[1]), local_grad(e[0],x[2])\n",
    "        x12,x22,x32= local_grad(e[1],x[0]), local_grad(e[1],x[1]), local_grad(e[1],x[2])\n",
    "        y1,y2,y3= local_grad(e[2],x[0]), local_grad(e[2],x[1]), local_grad(e[2],x[2])\n",
    "        d1=[x11,x21,x31]\n",
    "        d2=[x12,x22,x32]\n",
    "        d3=[y1,y2,y3]\n",
    "        Rn= x[1]*(x11*x32+x12*x31)-x[2]*(x11*x22+x12*x21)\n",
    "\n",
    "        E41=-k11*(x11**2-y1**2)-k12*x11*x12\n",
    "        E51=-k21*x11*x12-k22*(x12**2-y1**2)\n",
    "        E61=-k11*x11*x12-k12*(x12**2-y1**2)-k22*x11*x12-k21*(x11**2-y1**2)\n",
    "\n",
    "        E42=k11*(y1*(x[1]*y3-x[2]*y2)+x11*(x[2]*x21-x[1]*x31))+k12*0.5*(-Rn)+2*x11*(y2*x31-y3*x21)\n",
    "        E52=k22*(y1*(x[1]*y3-x[2]*y2)+x12*(x[2]*x22-x[1]*x32))+k21*0.5*(-Rn)+2*x12*(y2*x32-y3*x22)     \n",
    "\n",
    "        E62=(k11+k22)*0.5*(-Rn)+(k12+k21)*(y1*(x[1]*y3-x[2]*y2))+k12*x12*(x[2]*x22-x[1]*x32)\\\n",
    "            +2*(y2*(x12*x31+x11*x32)-y3*(x12*x21+x11*x22))+k21*x11*(x[2]*x21-x[1]*x31)\n",
    "\n",
    "        E43= k11*x[2]*(y1**2-x11**2)-k12*x11*x12*x[2]+x11*(y3*x11-2*y1*x31)\n",
    "        E53= k22*x[2]*(y1**2-x12**2)-k21*x11*x12*x[2]+x12*(y3*x12-2*y1*x32)\n",
    "        E63= -(k11+k22)*x[2]*x11*x12+x[2]*(k12*(y1**2-x12**2)+k21*(y1**2-x11**2))-2*y1*(x12*x31+x11*x32)+2*y3*x11*x12\n",
    "\n",
    "        E44= k11*x[1]*(-y1**2+x11**2)+k12*x11*x12*x[1]+x11*(-y2*x11+2*y1*x21)\n",
    "        E54= k22*x[1]*(-y1**2+x12**2)+k21*x11*x12*x[1]+x12*(-y2*x12+2*y1*x22)\n",
    "        E64= (k11+k22)*x11*x12*x[1]+x[1]*(k12(-y1**2+x12**2)+k21*(-y1**2+x11**2))+2*y1*(x12*x21+x11*x22)-2*y2*x11*x12\n",
    "\n",
    "    return as_tensor([(x11**2, x11*(x[1]*x31-x[2]*x21),  x[2]*x11**2, -x[1]*x11**2),\n",
    "                        (x12**2, x12*(x[1]*x32-x[2]*x22),  x[2]*x12**2, -x[1]*x12**2),\n",
    "                        (2*x11*x12,Rn, 2*x11*x12*x[2], -2*x11*x12*x[1]),\n",
    "                        (E41,E42,E43,E44),\n",
    "                        (E51,E52,E53,E54), \n",
    "                        (E61,E62,E63,E64)])\n",
    "    \n",
    "def eps(e,x,dx,w,r):\n",
    "    if r=='G_h':\n",
    "    \n",
    "        k11,k12,k21,k22,k13,k23= deri(e)\n",
    "        x11,x21,x31= local_grad(e[0],x[0]), local_grad(e[0],x[1]), local_grad(e[0],x[2])\n",
    "        x12,x22,x32= local_grad(e[1],x[0]), local_grad(e[1],x[1]), local_grad(e[1],x[2])\n",
    "        y1,y2,y3= local_grad(e[2],x[0]), local_grad(e[2],x[1]), local_grad(e[2],x[2])\n",
    "        d1=[x11,x21,x31]\n",
    "        d2=[x12,x22,x32]\n",
    "        d3=[y1,y2,y3]\n",
    "        d11=as_vector([-k11*d3[ii]+k13*d2[ii] for ii in range(3)])\n",
    "        d22=as_vector([-k22*d3[ii]-k23*d1[ii] for ii in range(3)])\n",
    "        d12=as_vector([-k21*d3[ii]+k23*d2[ii] for ii in range(3)])\n",
    "        d21=as_vector([-k12*d3[ii]-k13*d1[ii] for ii in range(3)])\n",
    "        \n",
    "        w_d1=[local_grad(e[0],w[i]) for i in range(3)]\n",
    "        w_d2= [local_grad(e[1],w[i]) for i in range(3)]\n",
    "        w_d11=[local_grad(e[0],w_d1[i]) for i in range(3)]\n",
    "        w_d22=[local_grad(e[1],w_d2[i]) for i in range(3)]\n",
    "\n",
    "        w_d12=[local_grad(e[1],w_d1[ii]) for ii in range(3)]\n",
    "        w_d21=[local_grad(e[0],w_d2[ii]) for ii in range(3)]\n",
    "        w_11=[local_grad(d11,w[ii]) for ii in range(3)]\n",
    "        w_22=[local_grad(d22,w[ii]) for ii in range(3)]\n",
    "        w_12=[local_grad(d12,w[ii]) for ii in range(3)]\n",
    "        w_21=[local_grad(d21,w[ii]) for ii in range(3)]\n",
    "\n",
    "        G1=ddot(w_d1,d1)\n",
    "        G2=ddot(w_d2,d2)\n",
    "        G3=ddot(w_d1,d2)+ddot(w_d2,d1)\n",
    "        G4=-k11*G1-k12*0.5*G3-ddot(w_d11,d3)+k13*ddot(w_d2,d3)-ddot(w_d11,d3)-ddot(w_11,d3)\n",
    "        G5=-k22*G2-k21*0.5*G3-ddot(w_d22,d3)-k23*ddot(w_d1,d3)-ddot(w_d22,d3)-ddot(w_22,d3)\n",
    "        G6=-(k11+k22)*0.5*G3-k12*G2-k21*G1+k23*ddot(w_d2,d3)-k13*ddot(w_d1,d3) \\\n",
    "           -ddot(w_d12,d3)-ddot(w_d21,d3)-ddot(w_12,d3)-ddot(w_21,d3)\n",
    "\n",
    "        return as_vector([G1,G2,G3,G4,G5,G6])\n",
    "\n",
    "    elif r=='G_l':\n",
    "        k11,k12,k21,k22,k13,k23= deri(e)\n",
    "        x11,x21,x31= local_grad(e[0],x[0]), local_grad(e[0],x[1]), local_grad(e[0],x[2])\n",
    "        x12,x22,x32= local_grad(e[1],x[0]), local_grad(e[1],x[1]), local_grad(e[1],x[2])\n",
    "        y1,y2,y3= local_grad(e[2],x[0]), local_grad(e[2],x[1]), local_grad(e[2],x[2])\n",
    "        d1=[x11,x21,x31]\n",
    "        d2=[x12,x22,x32]\n",
    "        d3=[y1,y2,y3]\n",
    "        dd1,dd2=as_vector(d1), as_vector(d2)\n",
    "        w_d1=[local_grad(dd1,w[0]),local_grad(dd1,w[1]),local_grad(dd1,w[2])]\n",
    "        w_d2= [local_grad(dd2,w[0]),local_grad(dd2,w[1]),local_grad(dd2,w[2])]\n",
    "\n",
    "        L1,L2=x11*(ddot(d1,w)),x12*(ddot(d2,w))\n",
    "        L3=ddot([2*x11*x12,(x12*x21+x11*x22),(x12*x31+x11*x32)],w)\n",
    "        L4=-2*x11*ddot(w_d1,d3)\n",
    "\n",
    "        L5=ddot([(k22*(y1**2-x12**2)),\n",
    "                  (k22*(y1*y2-x12*x22)),\n",
    "                  (k22*(y1*y3-x12*x32))],w)-2*x12*ddot(w_d2,d3)\n",
    "\n",
    "        L6=ddot([(-k22*x11*x12),\n",
    "                 (-0.5*k22*(x21*x12+x11*x22)),\n",
    "                 (-0.5*k22*(x31*x12+x11*x32))],w)-2*(x11*ddot(w_d2,d3)+x12*ddot(w_d1,d3))\n",
    "                \n",
    "        return as_vector([L1,L2,L3,L4,L5,L6])"
   ]
  },
  {
   "cell_type": "code",
   "execution_count": 129,
   "id": "ca2fcf45",
   "metadata": {},
   "outputs": [],
   "source": [
    "options = [\"-O1\", \"-O2\", \"-O3\", \"-Ofast\"]\n",
    "cffi_options = [options[3]]\n",
    "jit_options = {\"cffi_extra_compile_args\": cffi_options,\n",
    "                                \"cffi_libraries\": [\"m\"]}\n",
    "deg=2\n",
    "\n",
    "# Left Boundary\n",
    "\n",
    "V_l = dolfinx.fem.functionspace(mesh_l, basix.ufl.element(\n",
    "    \"S\", mesh_l.topology.cell_name(), deg, shape=(3, )))\n",
    "w_l = Function(V_l)\n",
    "\n",
    "frame_l = local_frame_1D(mesh_l)\n",
    "le1, le2, le3= frame_l\n",
    "\n",
    "e1l,e2l,e3l=Function(V_l), Function(V_l), Function(V_l)\n",
    "\n",
    "fexpr1=dolfinx.fem.Expression(le1,V_l.element.interpolation_points(), comm=MPI.COMM_WORLD)\n",
    "e1l.interpolate(fexpr1) \n",
    "\n",
    "fexpr2=dolfinx.fem.Expression(le2,V_l.element.interpolation_points(), comm=MPI.COMM_WORLD)\n",
    "e2l.interpolate(fexpr2) \n",
    "\n",
    "fexpr3=dolfinx.fem.Expression(le3,V_l.element.interpolation_points(), comm=MPI.COMM_WORLD)\n",
    "e3l.interpolate(fexpr3) \n",
    "\n",
    "x_l, dx_l=SpatialCoordinate(mesh_l), Measure('dx')(domain=mesh_l)\n",
    "\n",
    "e_l=[e1l,e2l,e3l]\n",
    "\n",
    "dvl = TrialFunction(V_l)\n",
    "v_l= TestFunction(V_l)\n",
    "\n",
    "\n",
    "local_range = V_l.dofmap.index_map.local_range\n",
    "dofss = np.arange(*local_range)\n",
    "xxx=3*len(dofss)\n",
    "\n",
    "V0 = np.zeros((xxx,4))\n",
    "Dhe=np.zeros((xxx,4))\n",
    "D_ee=np.zeros((4,4))\n",
    "\n",
    "mesh_l.topology.create_connectivity(1, 1)"
   ]
  },
  {
   "cell_type": "code",
   "execution_count": 130,
   "id": "5f0efb84",
   "metadata": {},
   "outputs": [
    {
     "name": "stdout",
     "output_type": "stream",
     "text": [
      "Computed 25 %\n",
      "Computed 50 %\n",
      "Computed 75 %\n",
      "Computed 100 %\n"
     ]
    }
   ],
   "source": [
    "# Assembled matrices\n",
    "\n",
    "Dle=np.zeros((xxx,4))\n",
    "Dhe=np.zeros((xxx,4))\n",
    "Dhd=np.zeros((xxx,4))\n",
    "Dld=np.zeros((xxx,4))\n",
    "V0=np.zeros((xxx,4))\n",
    "D_ed=np.zeros((4,4))\n",
    "D_dd=np.zeros((4,4))\n",
    "D_ee=np.zeros((4,4))  \n",
    "V1s=np.zeros((xxx,4))\n",
    "\n",
    "for p in range(4):\n",
    "    r_hd=dot(dot(ABD,Eps(e_l,x_l,'G_eps-p')[:,p]),eps(e_l,x_l,dx_l,v_l,'G_h'))*dx_l\n",
    "    Dhd[:,p] = petsc.assemble_vector(form(r_hd))[:]\n",
    "    \n",
    "    r_le=dot(dot(ABD,Eps(e_l,x_l,'G_eps')[:,p]),eps(e_l,x_l,dx_l,v_l,'G_l'))*dx_l\n",
    "    Dle[:,p] = petsc.assemble_vector(form(r_le))[:]\n",
    "    \n",
    "    r_ld=dot(dot(ABD,Eps(e_l,x_l,'G_eps-p')[:,p]),eps(e_l,x_l,dx_l,v_l,'G_l'))*dx_l\n",
    "    Dld[:,p] = petsc.assemble_vector(form(r_ld))[:]\n",
    "    print('Computed',(p+1)*25,'%')    "
   ]
  },
  {
   "cell_type": "code",
   "execution_count": 131,
   "id": "b68b1565",
   "metadata": {},
   "outputs": [
    {
     "name": "stdout",
     "output_type": "stream",
     "text": [
      "Computed Dhe 25 %\n",
      "Computed Dhe 50 %\n",
      "Computed Dhe 75 %\n",
      "Computed Dhe 100 %\n",
      "Computed 25 %\n",
      "Computed 50 %\n",
      "Computed 75 %\n",
      "Computed 100 %\n",
      "Stiffness Matrix\n",
      "[[ 21613.     -0.     -0.     -0.]\n",
      " [    -0. 207837.      0.      0.]\n",
      " [    -0.      0. 270088.      0.]\n",
      " [    -0.      0.      0. 270091.]]\n"
     ]
    }
   ],
   "source": [
    "for p in range(4):\n",
    "    r_he=dot(dot(ABD,Eps(e_l,x_l,'G_eps')[:,p]),eps(e_l,x_l,dx_l,v_l,'G_h'))*dx_l\n",
    "    a_he=dot(dot(ABD,eps(e_l,x_l,dx_l,dvl,'G_h')),eps(e_l,x_l,dx_l,v_l,'G_h'))*dx_l\n",
    "    F_l = petsc.assemble_vector(form(r_he))\n",
    "    F_l.ghostUpdate(addv=petsc4py.PETSc.InsertMode.ADD, mode=petsc4py.PETSc.ScatterMode.REVERSE)\n",
    "    A_l=assemble_matrix(form(a_he))\n",
    "    A_l.assemble()\n",
    "    w_l=Function(V_l)\n",
    "    # Nullspace implement\n",
    "\n",
    "    index_map = V_l.dofmap.index_map\n",
    "    nullspace_basis = [dolfinx.la.create_petsc_vector(index_map, V_l.dofmap.index_map_bs) for i in range(4)]\n",
    "\n",
    "    with ExitStack() as stack:\n",
    "        vec_local = [stack.enter_context(x.localForm()) for x in nullspace_basis]\n",
    "        basis = [np.asarray(x) for x in vec_local]\n",
    "\n",
    "    # Dof indices for each subspace (x, y and z dofs)\n",
    "    dofs = [V_l.sub(i).dofmap.list for i in range(3)]\n",
    "\n",
    "    # Build translational null space basis\n",
    "    for i in range(3):\n",
    "        basis[i][dofs[i]] = 1.0\n",
    "\n",
    "    # Create vector space basis and orthogonalize\n",
    "    dolfinx.la.orthonormalize(nullspace_basis)\n",
    "\n",
    "    nullspace_l = petsc4py.PETSc.NullSpace().create(nullspace_basis, comm=MPI.COMM_WORLD)\n",
    "\n",
    "    # Set the nullspace\n",
    "    A_l.setNullSpace(nullspace_l)    \n",
    "\n",
    "    nullspace_l.remove(F_l) # nullspace_l\n",
    "    # ksp solve\n",
    "    ksp = petsc4py.PETSc.KSP()\n",
    "    ksp.create(comm=MPI.COMM_WORLD)\n",
    "    ksp.setOperators(A_l) # A_l\n",
    "    ksp.setType(\"preonly\")\n",
    "    ksp.getPC().setType(\"lu\")\n",
    "    ksp.getPC().setFactorSolverType(\"mumps\")\n",
    "    ksp.getPC().setFactorSetUpSolverType()\n",
    "    ksp.getPC().getFactorMatrix().setMumpsIcntl(icntl=24, ival=1)  # detect null pivots\n",
    "    ksp.getPC().getFactorMatrix().setMumpsIcntl(icntl=25, ival=0)  # do not compute null space again\n",
    "    ksp.setFromOptions()\n",
    "    ksp.solve(F_l, w_l.vector)\n",
    "    w_l.vector.ghostUpdate(\n",
    "        addv=petsc4py.PETSc.InsertMode.INSERT, mode=petsc4py.PETSc.ScatterMode.FORWARD)\n",
    "    ksp.destroy()\n",
    "    Dhe[:,p]=  F_l[:]\n",
    "    V0[:,p]= w_l.vector[:]  \n",
    "    print('Computed','Dhe',(p+1)*25,'%')\n",
    "    \n",
    "D1=np.matmul(V0.T,-Dhe)   \n",
    "for s in range(4):\n",
    "    for k in range(4): \n",
    "        f=dolfinx.fem.form(sum([dot(dot(Eps(e_l,x_l,'G_eps').T,ABD),Eps(e_l,x_l,'G_eps'))[s,k]*dx_l]))\n",
    "        D_ee[s,k]=dolfinx.fem.assemble_scalar(f)\n",
    "\n",
    "        f=dolfinx.fem.form(sum([dot(dot(Eps(e_l,x_l,'G_eps').T,ABD),Eps(e_l,x_l,'G_eps-p'))[s,k]*dx_l]))\n",
    "        D_ed[s,k]=dolfinx.fem.assemble_scalar(f)\n",
    "\n",
    "        f=dolfinx.fem.form(sum([dot(dot(Eps(e_l,x_l,'G_eps-p').T,ABD),Eps(e_l,x_l,'G_eps-p'))[s,k]*dx_l]))\n",
    "        D_dd[s,k]=dolfinx.fem.assemble_scalar(f)  \n",
    "    print('Computed',(s+1)*25,'%')\n",
    "    \n",
    "D_eff= D_ee + D1 # Effective Stiffness Matrix (EB)\n",
    "D_eff=D_eff\n",
    "print('Stiffness Matrix')\n",
    "np.set_printoptions(precision=4)\n",
    "print(np.around(D_eff))  \n",
    "\n",
    "a_hl=dot(dot(ABD,eps(e_l,x_l,dx_l,v_l,'G_l')),eps(e_l,x_l,dx_l,dvl,'G_h'))*dx_l\n",
    "Dhl=assemble_matrix(form(a_hl))\n",
    "Dhl.assemble()\n",
    "ai, aj, av=Dhl.getValuesCSR()\n",
    "Dhl=csr_matrix((av, aj, ai)).toarray()\n",
    "\n",
    "a_ll=dot(eps(e_l,x_l,dx_l,dvl,'G_l'),dot(ABD,eps(e_l,x_l,dx_l,v_l,'G_l')))*dx_l\n",
    "Dll=assemble_matrix(form(a_ll))\n",
    "Dll.assemble()\n",
    "ai, aj, av=Dll.getValuesCSR()\n",
    "Dll=csr_matrix((av, aj, ai)).toarray()\n"
   ]
  },
  {
   "cell_type": "code",
   "execution_count": 132,
   "id": "294f4e3e",
   "metadata": {},
   "outputs": [],
   "source": [
    "#DhlTV0\n",
    "DhlV0=np.matmul(Dhl,V0)\n",
    "\n",
    "#DhlTV0Dle\n",
    "DhlTV0Dle=np.matmul(Dhl.T,V0)+Dle\n",
    "\n",
    "#V0DllV0\n",
    "V0DllV0=np.matmul(np.matmul(V0.T,Dll),V0)\n",
    "\n",
    "# V1s\n",
    "b=DhlTV0Dle-DhlV0-Dhd"
   ]
  },
  {
   "cell_type": "code",
   "execution_count": null,
   "id": "dcdcda5e",
   "metadata": {},
   "outputs": [],
   "source": []
  },
  {
   "cell_type": "code",
   "execution_count": null,
   "id": "95137daa",
   "metadata": {},
   "outputs": [],
   "source": []
  },
  {
   "cell_type": "code",
   "execution_count": null,
   "id": "5025be07",
   "metadata": {},
   "outputs": [],
   "source": []
  },
  {
   "cell_type": "code",
   "execution_count": null,
   "id": "242b080d",
   "metadata": {},
   "outputs": [],
   "source": []
  },
  {
   "cell_type": "code",
   "execution_count": null,
   "id": "5932972d",
   "metadata": {},
   "outputs": [],
   "source": []
  },
  {
   "cell_type": "code",
   "execution_count": null,
   "id": "2de03fda",
   "metadata": {},
   "outputs": [],
   "source": []
  },
  {
   "cell_type": "code",
   "execution_count": 151,
   "id": "4ccd2bae",
   "metadata": {},
   "outputs": [
    {
     "name": "stdout",
     "output_type": "stream",
     "text": [
      "591997.6072616575\n",
      "2859281.8656028993\n",
      "318.0908288334247\n",
      "494.2999107366676\n"
     ]
    }
   ],
   "source": [
    "for p in range(4):\n",
    "    a_he=dot(dot(ABD,eps(e_l,x_l,dx_l,dvl,'G_h')),eps(e_l,x_l,dx_l,v_l,'G_h'))*dx_l\n",
    "    A_l=assemble_matrix(form(a_he))\n",
    "    A_l.assemble()\n",
    "    w_l=Function(V_l)\n",
    "\n",
    "    index_map = V_l.dofmap.index_map\n",
    "    nullspace_basis = [dolfinx.la.create_petsc_vector(index_map, V_l.dofmap.index_map_bs) for i in range(3)]\n",
    "\n",
    "    with ExitStack() as stack:\n",
    "        vec_local = [stack.enter_context(x.localForm()) for x in nullspace_basis]\n",
    "        basis = [np.asarray(x) for x in vec_local]\n",
    "\n",
    "    # Dof indices for each subspace (x, y and z dofs)\n",
    "    dofs = [V_l.sub(i).dofmap.list for i in range(3)]\n",
    "\n",
    "    # Build translational null space basis\n",
    "    for i in range(3):\n",
    "        basis[i][dofs[i]] = 1.0\n",
    "\n",
    "    # Create vector space basis and orthogonalize\n",
    "    dolfinx.la.orthonormalize(nullspace_basis)\n",
    "\n",
    "    nullspace_l = petsc4py.PETSc.NullSpace().create(nullspace_basis, comm=MPI.COMM_WORLD)\n",
    "    # Set the nullspace\n",
    "    \n",
    "    A_l.setNullSpace(nullspace_l)    \n",
    "    F_l=petsc4py.PETSc.Vec().createWithArray(b[:,p],comm=MPI.COMM_WORLD)\n",
    "    nullspace_l.remove(F_l)\n",
    "\n",
    "    # ksp solve\n",
    "    ksp = petsc4py.PETSc.KSP()\n",
    "    ksp.create(comm=MPI.COMM_WORLD)\n",
    "    ksp.setOperators(A_l) # A_l\n",
    "    ksp.setType(\"preonly\")\n",
    "    ksp.getPC().setType(\"lu\")\n",
    "    ksp.getPC().setFactorSolverType(\"mumps\")\n",
    "    ksp.getPC().setFactorSetUpSolverType()\n",
    "    ksp.getPC().getFactorMatrix().setMumpsIcntl(icntl=24, ival=1)  # detect null pivots\n",
    "    ksp.getPC().getFactorMatrix().setMumpsIcntl(icntl=25, ival=0)  # do not compute null space again\n",
    "    ksp.setFromOptions()\n",
    "    ksp.solve(F_l, w_l.vector)\n",
    "    w_l.vector.ghostUpdate(\n",
    "        addv=petsc4py.PETSc.InsertMode.INSERT, mode=petsc4py.PETSc.ScatterMode.FORWARD)\n",
    "    ksp.destroy()\n",
    "    V1s[:,p]= w_l.vector[:]  \n",
    "    print(max(abs(V1s[:,p])))"
   ]
  },
  {
   "cell_type": "code",
   "execution_count": 156,
   "id": "584324e6",
   "metadata": {},
   "outputs": [
    {
     "data": {
      "text/plain": [
       "array([[-3.1859e+00, -9.3026e-05,  7.5441e+00,  6.2512e+00],\n",
       "       [-2.6451e+00,  1.4110e+00,  5.2113e+00,  5.2656e+00],\n",
       "       [-6.5184e-02, -1.9404e-01,  1.2843e-01,  1.2976e-01],\n",
       "       ...,\n",
       "       [ 1.4936e+02,  3.7500e-14,  1.8323e+01,  7.4639e+02],\n",
       "       [-6.0181e-14, -7.9686e+00,  1.1932e-13,  1.1976e-13],\n",
       "       [ 1.3918e-13, -3.2461e+02, -2.7972e-13, -2.7878e-13]])"
      ]
     },
     "execution_count": 156,
     "metadata": {},
     "output_type": "execute_result"
    }
   ],
   "source": [
    "b"
   ]
  },
  {
   "cell_type": "code",
   "execution_count": 167,
   "id": "e35a9882",
   "metadata": {},
   "outputs": [
    {
     "data": {
      "text/plain": [
       "182.62524251463523"
      ]
     },
     "execution_count": 167,
     "metadata": {},
     "output_type": "execute_result"
    }
   ],
   "source": [
    "max(b[:,0])"
   ]
  },
  {
   "cell_type": "code",
   "execution_count": null,
   "id": "03e7389f",
   "metadata": {},
   "outputs": [],
   "source": []
  },
  {
   "cell_type": "code",
   "execution_count": 155,
   "id": "e8bbdc4a",
   "metadata": {},
   "outputs": [
    {
     "name": "stdout",
     "output_type": "stream",
     "text": [
      "Stiffness Matrix\n",
      "[[ 2.1613e+04 -3.1000e+01  2.7000e+01 -0.0000e+00 -0.0000e+00 -0.0000e+00]\n",
      " [-3.1000e+01  4.0610e+03 -2.0000e+00 -0.0000e+00 -0.0000e+00 -0.0000e+00]\n",
      " [ 2.7000e+01 -2.0000e+00  3.6390e+03 -0.0000e+00  0.0000e+00  0.0000e+00]\n",
      " [-0.0000e+00 -0.0000e+00 -0.0000e+00  2.0784e+05 -0.0000e+00 -0.0000e+00]\n",
      " [-0.0000e+00 -0.0000e+00  0.0000e+00 -0.0000e+00  2.7009e+05  0.0000e+00]\n",
      " [-0.0000e+00 -0.0000e+00  0.0000e+00 -0.0000e+00  0.0000e+00  2.7009e+05]]\n"
     ]
    }
   ],
   "source": [
    "# Ainv\n",
    "Ainv=np.linalg.inv(D_eff)\n",
    "\n",
    "# B_tim\n",
    "B_tim= np.matmul(DhlTV0Dle.T,V0)+ D_ed+ np.matmul(V0.T,Dhd)\n",
    "\n",
    "# C_tim\n",
    "C_tim= V0DllV0 + np.matmul(V1s.T,DhlV0 + DhlTV0Dle)+2*np.matmul(V0.T,Dld)+ D_dd+np.matmul(V1s.T,Dhd)\n",
    "C_tim=0.5*(C_tim+C_tim.T)\n",
    "\n",
    "# D_tim\n",
    "D_tim= np.matmul((np.matmul(Dhl.T,V0)+Dle).T,V1s)\n",
    "\n",
    "# Ginv\n",
    "Q_tim=np.matmul(Ainv,np.array([(0,0),(0,0),(0,-1),(1,0)]))\n",
    "Ginv= np.matmul(np.matmul(Q_tim.T,(C_tim-np.matmul(np.matmul(B_tim.T,Ainv),B_tim))),Q_tim)\n",
    "G_tim=np.linalg.inv(Ginv)\n",
    "Y_tim= np.matmul(np.matmul(B_tim.T,Q_tim),G_tim)\n",
    "A_tim= D_eff + np.matmul(np.matmul(Y_tim,Ginv),Y_tim.T)\n",
    "\n",
    "# Deff_srt\n",
    "\n",
    "D=np.zeros((6,6))\n",
    "\n",
    "D[4:6,4:6]=G_tim\n",
    "D[0:4,4:6]=Y_tim\n",
    "D[4:6,0:4]=Y_tim.T\n",
    "D[0:4,0:4]=A_tim\n",
    "\n",
    "Deff_srt=np.zeros((6,6))\n",
    "Deff_srt[0,3:6]=A_tim[0,1:4]\n",
    "Deff_srt[0,1:3]=Y_tim[0,:]\n",
    "Deff_srt[0,0]=A_tim[0,0]\n",
    "\n",
    "Deff_srt[3:6,3:6]=A_tim[1:4,1:4]\n",
    "Deff_srt[3:6,1:3]=Y_tim[1:4,:]\n",
    "Deff_srt[3:6,0]=A_tim[1:4,0]\n",
    "\n",
    "Deff_srt[1:3,1:3]=G_tim\n",
    "Deff_srt[1:3,3:6]=Y_tim.T[:,1:4]\n",
    "Deff_srt[1:3,0]=Y_tim.T[:,0]\n",
    "print('Stiffness Matrix')\n",
    "\n",
    "np.set_printoptions(precision=4)\n",
    "print(np.around(Deff_srt))  "
   ]
  },
  {
   "cell_type": "code",
   "execution_count": null,
   "id": "4ce39f44",
   "metadata": {},
   "outputs": [],
   "source": []
  },
  {
   "cell_type": "code",
   "execution_count": null,
   "id": "3854093d",
   "metadata": {},
   "outputs": [],
   "source": []
  },
  {
   "cell_type": "code",
   "execution_count": null,
   "id": "3a6b3ddf",
   "metadata": {},
   "outputs": [],
   "source": []
  },
  {
   "cell_type": "code",
   "execution_count": null,
   "id": "8c901611",
   "metadata": {},
   "outputs": [],
   "source": []
  },
  {
   "cell_type": "code",
   "execution_count": null,
   "id": "ccd216d0",
   "metadata": {},
   "outputs": [],
   "source": []
  },
  {
   "cell_type": "code",
   "execution_count": null,
   "id": "418641b0",
   "metadata": {},
   "outputs": [],
   "source": []
  },
  {
   "cell_type": "code",
   "execution_count": null,
   "id": "b38eaabd",
   "metadata": {},
   "outputs": [],
   "source": []
  },
  {
   "cell_type": "code",
   "execution_count": null,
   "id": "e1af7a73",
   "metadata": {},
   "outputs": [],
   "source": []
  },
  {
   "cell_type": "code",
   "execution_count": null,
   "id": "2e73c9e6",
   "metadata": {},
   "outputs": [],
   "source": []
  },
  {
   "cell_type": "code",
   "execution_count": 30,
   "id": "8f7b6a67",
   "metadata": {},
   "outputs": [],
   "source": [
    "e=e_l\n",
    "x=x_l\n",
    "k11,k12,k21,k22,k13,k23= deri(e)\n",
    "x11,x21,x31= local_grad(e[0],x[0]), local_grad(e[0],x[1]), local_grad(e[0],x[2])\n",
    "x12,x22,x32= local_grad(e[1],x[0]), local_grad(e[1],x[1]), local_grad(e[1],x[2])\n",
    "y1,y2,y3= local_grad(e[2],x[0]), local_grad(e[2],x[1]), local_grad(e[2],x[2])"
   ]
  },
  {
   "cell_type": "code",
   "execution_count": 31,
   "id": "4b8c9a49",
   "metadata": {},
   "outputs": [
    {
     "data": {
      "text/plain": [
       "-314.1277225680414"
      ]
     },
     "execution_count": 31,
     "metadata": {},
     "output_type": "execute_result"
    }
   ],
   "source": [
    "\n",
    "dolfinx.fem.assemble_scalar(form(sum([x[0]*dx_l])))"
   ]
  },
  {
   "cell_type": "code",
   "execution_count": 32,
   "id": "633594b4",
   "metadata": {},
   "outputs": [
    {
     "ename": "NameError",
     "evalue": "name 'petsc2array' is not defined",
     "output_type": "error",
     "traceback": [
      "\u001b[0;31m---------------------------------------------------------------------------\u001b[0m",
      "\u001b[0;31mNameError\u001b[0m                                 Traceback (most recent call last)",
      "Cell \u001b[0;32mIn[32], line 5\u001b[0m\n\u001b[1;32m      1\u001b[0m \u001b[38;5;28;01mfrom\u001b[39;00m \u001b[38;5;21;01mpetsc4py\u001b[39;00m \u001b[38;5;28;01mimport\u001b[39;00m PETSc\n\u001b[1;32m      3\u001b[0m Xpetsc \u001b[38;5;241m=\u001b[39m PETSc\u001b[38;5;241m.\u001b[39mMat()\u001b[38;5;241m.\u001b[39mcreateDense(b\u001b[38;5;241m.\u001b[39mshape, array\u001b[38;5;241m=\u001b[39mb)\n\u001b[0;32m----> 5\u001b[0m X_back \u001b[38;5;241m=\u001b[39m \u001b[43mpetsc2array\u001b[49m(Xpetsc)\n\u001b[1;32m      6\u001b[0m \u001b[38;5;28;01massert\u001b[39;00m(np\u001b[38;5;241m.\u001b[39mallclose(X_back, b))\n",
      "\u001b[0;31mNameError\u001b[0m: name 'petsc2array' is not defined"
     ]
    }
   ],
   "source": [
    "from petsc4py import PETSc\n",
    "\n",
    "Xpetsc = PETSc.Mat().createDense(b.shape, array=b)\n",
    "\n",
    "X_back = petsc2array(Xpetsc)\n",
    "assert(np.allclose(X_back, b))"
   ]
  },
  {
   "cell_type": "code",
   "execution_count": null,
   "id": "28501a48",
   "metadata": {},
   "outputs": [],
   "source": []
  },
  {
   "cell_type": "code",
   "execution_count": null,
   "id": "af696163",
   "metadata": {},
   "outputs": [],
   "source": []
  },
  {
   "cell_type": "code",
   "execution_count": null,
   "id": "4ae4f8c3",
   "metadata": {},
   "outputs": [],
   "source": []
  },
  {
   "cell_type": "code",
   "execution_count": null,
   "id": "1ab577a9",
   "metadata": {},
   "outputs": [],
   "source": []
  },
  {
   "cell_type": "code",
   "execution_count": null,
   "id": "00581fa4",
   "metadata": {},
   "outputs": [],
   "source": []
  },
  {
   "cell_type": "code",
   "execution_count": null,
   "id": "16c7ff32",
   "metadata": {},
   "outputs": [],
   "source": []
  },
  {
   "cell_type": "code",
   "execution_count": null,
   "id": "41a2d2c7",
   "metadata": {},
   "outputs": [],
   "source": []
  },
  {
   "cell_type": "code",
   "execution_count": null,
   "id": "d89b726d",
   "metadata": {},
   "outputs": [],
   "source": []
  },
  {
   "cell_type": "code",
   "execution_count": null,
   "id": "97828743",
   "metadata": {},
   "outputs": [],
   "source": []
  },
  {
   "cell_type": "code",
   "execution_count": null,
   "id": "3b0f28f7",
   "metadata": {},
   "outputs": [],
   "source": [
    "\n",
    "    "
   ]
  },
  {
   "cell_type": "code",
   "execution_count": null,
   "id": "3269e443",
   "metadata": {},
   "outputs": [],
   "source": []
  },
  {
   "cell_type": "code",
   "execution_count": null,
   "id": "0fb4dc63",
   "metadata": {},
   "outputs": [],
   "source": []
  },
  {
   "cell_type": "code",
   "execution_count": null,
   "id": "36a55fcd",
   "metadata": {},
   "outputs": [],
   "source": []
  },
  {
   "cell_type": "code",
   "execution_count": null,
   "id": "d03ea1e1",
   "metadata": {},
   "outputs": [],
   "source": []
  },
  {
   "cell_type": "code",
   "execution_count": null,
   "id": "ebb12eab",
   "metadata": {},
   "outputs": [],
   "source": []
  },
  {
   "cell_type": "code",
   "execution_count": null,
   "id": "3a4e444c",
   "metadata": {},
   "outputs": [],
   "source": []
  },
  {
   "cell_type": "code",
   "execution_count": null,
   "id": "3c7586ce",
   "metadata": {},
   "outputs": [],
   "source": []
  },
  {
   "cell_type": "code",
   "execution_count": null,
   "id": "f112be19",
   "metadata": {},
   "outputs": [],
   "source": []
  },
  {
   "cell_type": "code",
   "execution_count": null,
   "id": "1bd6739d",
   "metadata": {},
   "outputs": [],
   "source": []
  },
  {
   "cell_type": "code",
   "execution_count": null,
   "id": "f1d3d175",
   "metadata": {},
   "outputs": [],
   "source": []
  },
  {
   "cell_type": "code",
   "execution_count": null,
   "id": "1298e7a2",
   "metadata": {},
   "outputs": [],
   "source": []
  },
  {
   "cell_type": "code",
   "execution_count": null,
   "id": "f3b0c047",
   "metadata": {},
   "outputs": [],
   "source": []
  },
  {
   "cell_type": "code",
   "execution_count": null,
   "id": "58bc86cc",
   "metadata": {},
   "outputs": [],
   "source": []
  },
  {
   "cell_type": "code",
   "execution_count": null,
   "id": "3de9e2c2",
   "metadata": {},
   "outputs": [],
   "source": []
  },
  {
   "cell_type": "code",
   "execution_count": null,
   "id": "22a4749c",
   "metadata": {},
   "outputs": [],
   "source": []
  },
  {
   "cell_type": "code",
   "execution_count": null,
   "id": "5e52a295",
   "metadata": {},
   "outputs": [],
   "source": []
  },
  {
   "cell_type": "code",
   "execution_count": null,
   "id": "87d253b8",
   "metadata": {},
   "outputs": [],
   "source": [
    "       "
   ]
  },
  {
   "cell_type": "code",
   "execution_count": null,
   "id": "6cee1543",
   "metadata": {},
   "outputs": [],
   "source": []
  },
  {
   "cell_type": "code",
   "execution_count": null,
   "id": "79f6bcad",
   "metadata": {},
   "outputs": [],
   "source": []
  },
  {
   "cell_type": "code",
   "execution_count": null,
   "id": "29c89715",
   "metadata": {},
   "outputs": [],
   "source": []
  },
  {
   "cell_type": "code",
   "execution_count": null,
   "id": "c1baedb9",
   "metadata": {},
   "outputs": [],
   "source": []
  },
  {
   "cell_type": "code",
   "execution_count": null,
   "id": "e7e35fc5",
   "metadata": {},
   "outputs": [],
   "source": []
  },
  {
   "cell_type": "code",
   "execution_count": null,
   "id": "449118ea",
   "metadata": {},
   "outputs": [],
   "source": []
  },
  {
   "cell_type": "code",
   "execution_count": null,
   "id": "dcf186c7",
   "metadata": {},
   "outputs": [],
   "source": []
  },
  {
   "cell_type": "code",
   "execution_count": null,
   "id": "e128ad77",
   "metadata": {},
   "outputs": [],
   "source": []
  },
  {
   "cell_type": "code",
   "execution_count": null,
   "id": "9288a18c",
   "metadata": {},
   "outputs": [],
   "source": []
  },
  {
   "cell_type": "code",
   "execution_count": null,
   "id": "1b9b4677",
   "metadata": {},
   "outputs": [],
   "source": []
  },
  {
   "cell_type": "code",
   "execution_count": null,
   "id": "00b4dd2b",
   "metadata": {},
   "outputs": [],
   "source": []
  },
  {
   "cell_type": "code",
   "execution_count": null,
   "id": "532eadbe",
   "metadata": {},
   "outputs": [],
   "source": []
  },
  {
   "cell_type": "code",
   "execution_count": null,
   "id": "fd478c7d",
   "metadata": {},
   "outputs": [],
   "source": []
  },
  {
   "cell_type": "code",
   "execution_count": null,
   "id": "35d9bbe1",
   "metadata": {},
   "outputs": [],
   "source": []
  },
  {
   "cell_type": "code",
   "execution_count": null,
   "id": "c45af056",
   "metadata": {},
   "outputs": [],
   "source": []
  },
  {
   "cell_type": "code",
   "execution_count": null,
   "id": "13a5492b",
   "metadata": {},
   "outputs": [],
   "source": []
  },
  {
   "cell_type": "code",
   "execution_count": null,
   "id": "fcea857c",
   "metadata": {},
   "outputs": [],
   "source": []
  },
  {
   "cell_type": "code",
   "execution_count": null,
   "id": "0573ba23",
   "metadata": {},
   "outputs": [],
   "source": []
  },
  {
   "cell_type": "code",
   "execution_count": null,
   "id": "60ded77b",
   "metadata": {},
   "outputs": [],
   "source": []
  },
  {
   "cell_type": "code",
   "execution_count": null,
   "id": "45739d9d",
   "metadata": {},
   "outputs": [],
   "source": []
  },
  {
   "cell_type": "code",
   "execution_count": null,
   "id": "825a1763",
   "metadata": {},
   "outputs": [],
   "source": []
  },
  {
   "cell_type": "code",
   "execution_count": null,
   "id": "74ce9b91",
   "metadata": {},
   "outputs": [],
   "source": []
  },
  {
   "cell_type": "code",
   "execution_count": null,
   "id": "adf02e06",
   "metadata": {},
   "outputs": [],
   "source": []
  },
  {
   "cell_type": "code",
   "execution_count": null,
   "id": "afeb4de5",
   "metadata": {},
   "outputs": [],
   "source": []
  },
  {
   "cell_type": "code",
   "execution_count": null,
   "id": "ef506bfb",
   "metadata": {},
   "outputs": [],
   "source": []
  },
  {
   "cell_type": "code",
   "execution_count": null,
   "id": "e0aa0d00",
   "metadata": {},
   "outputs": [],
   "source": []
  },
  {
   "cell_type": "code",
   "execution_count": null,
   "id": "1e4b4815",
   "metadata": {},
   "outputs": [],
   "source": []
  },
  {
   "cell_type": "code",
   "execution_count": null,
   "id": "a20d7bf2",
   "metadata": {},
   "outputs": [],
   "source": []
  },
  {
   "cell_type": "code",
   "execution_count": null,
   "id": "d362af76",
   "metadata": {},
   "outputs": [],
   "source": []
  },
  {
   "cell_type": "code",
   "execution_count": null,
   "id": "6856ef12",
   "metadata": {},
   "outputs": [],
   "source": []
  },
  {
   "cell_type": "code",
   "execution_count": null,
   "id": "4c4611ac",
   "metadata": {},
   "outputs": [],
   "source": []
  },
  {
   "cell_type": "code",
   "execution_count": null,
   "id": "a15c8ff4",
   "metadata": {},
   "outputs": [],
   "source": [
    "# connectivity\n",
    "#dim=2\n",
    "#mesh=dolfinx.mesh.create_unit_square(MPI.COMM_WORLD, 2,2,dolfinx.mesh.CellType.quadrilateral)\n",
    "#mesh.topology.create_connectivity(0, 1)\n",
    "#mesh.topology.connectivity(0, 1)\n",
    "# (2,1)----cell-facet\n",
    "# (2,0)----cell-vertices\n",
    "# (1,0)----facet-vertices,    (0,1)----vertices-facet\n",
    "# (0,0)-----vertices\n",
    "# (1,1)------facet   \n",
    "\n",
    "# original vertices\n",
    "#geom_loc_to_org = mesh.geometry.input_global_indices\n",
    "\n",
    "#vertices = np.arange(mesh.topology.index_map(0).size_local, dtype=np.int32)\n",
    "#top_to_geom = dolfinx.mesh.entities_to_geometry(mesh, 0, vertices, False).reshape(-1)\n",
    "#cells_conn = mesh.topology.connectivity(mesh.topology.dim,0)\n",
    "#conn1 = []\n",
    "#for ii in range(len(cells_conn.array)):\n",
    " #   conn1.append(geom_loc_to_org[top_to_geom[cells_conn.array[ii]]])\n",
    "#for i in cells_conn.array[:]: print(i)\n",
    "#o_cell_idx =  mesh.topology.original_cell_index\n",
    "\n",
    "#conn2=[]\n",
    "#for i in range(int(len(conn1)/4)):\n",
    " #   c=[]\n",
    " #   for k in range(4):\n",
    " #       c.append((1+conn1[4*i+k]))\n",
    " #   conn2.append(c)\n",
    "#for i,x in enumerate(conn2):\n",
    "   # print(i,o_cell_idx[i],x)\n",
    "    \n",
    "#for i in range(len(conn1)):\n",
    "   # for k in range(len(o_cell_idx)):\n",
    "       # if i==o_cell_idx[k]:\n",
    "         #   print(1+o_cell_idx[k],conn2[k])"
   ]
  },
  {
   "cell_type": "code",
   "execution_count": null,
   "id": "417281e3",
   "metadata": {},
   "outputs": [],
   "source": []
  },
  {
   "cell_type": "code",
   "execution_count": null,
   "id": "e2f5c2e7",
   "metadata": {},
   "outputs": [],
   "source": []
  },
  {
   "cell_type": "code",
   "execution_count": null,
   "id": "c1ef9432",
   "metadata": {},
   "outputs": [],
   "source": []
  }
 ],
 "metadata": {
  "kernelspec": {
   "display_name": "Python 3 (ipykernel)",
   "language": "python",
   "name": "python3"
  },
  "language_info": {
   "codemirror_mode": {
    "name": "ipython",
    "version": 3
   },
   "file_extension": ".py",
   "mimetype": "text/x-python",
   "name": "python",
   "nbconvert_exporter": "python",
   "pygments_lexer": "ipython3",
   "version": "3.10.12"
  }
 },
 "nbformat": 4,
 "nbformat_minor": 5
}
